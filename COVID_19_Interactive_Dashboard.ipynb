{
  "nbformat": 4,
  "nbformat_minor": 0,
  "metadata": {
    "colab": {
      "name": "COVID-19 Interactive Dashboard",
      "provenance": [],
      "collapsed_sections": []
    },
    "kernelspec": {
      "name": "python3",
      "display_name": "Python 3"
    }
  },
  "cells": [
    {
      "cell_type": "code",
      "metadata": {
        "id": "cgFHTY3JpH7D",
        "colab_type": "code",
        "colab": {}
      },
      "source": [
        "# Setup Jupyter configuration for interactive mode and retina mode for anti-aliased graph rendering\n",
        "\n",
        "%matplotlib inline\n",
        "%config InlineBackend.figure_format = 'retina'"
      ],
      "execution_count": 0,
      "outputs": []
    },
    {
      "cell_type": "code",
      "metadata": {
        "id": "jlB7BO4eknt4",
        "colab_type": "code",
        "colab": {}
      },
      "source": [
        "# Importing libraries we're going to use\n",
        "\n",
        "import ipywidgets as widgets\n",
        "from ipywidgets import Button, HBox, VBox, Layout\n",
        "import matplotlib.pyplot as plt\n",
        "import pandas as pd\n",
        "import numpy as np\n",
        "import json\n",
        "import requests\n",
        "from datetime import datetime\n"
      ],
      "execution_count": 0,
      "outputs": []
    },
    {
      "cell_type": "code",
      "metadata": {
        "id": "kreC21rXl2JD",
        "colab_type": "code",
        "colab": {}
      },
      "source": [
        "# Fetch list of countries\n",
        "\n",
        "countries_data = pd.read_json('https://api.covid19api.com/countries').sort_values(['Country'])"
      ],
      "execution_count": 0,
      "outputs": []
    },
    {
      "cell_type": "code",
      "metadata": {
        "id": "VwXEC9FwLJe_",
        "colab_type": "code",
        "colab": {}
      },
      "source": [
        "# Declaring a dropwdown widget for selecting countries\n",
        "\n",
        "country_dropdown = widgets.Dropdown(\n",
        "    options=['Global'] + countries_data['Country'].tolist(),\n",
        "    value='Global',\n",
        "    description='Countries :',\n",
        "    disabled=False,\n",
        ")"
      ],
      "execution_count": 0,
      "outputs": []
    },
    {
      "cell_type": "code",
      "metadata": {
        "id": "R7hWk88qLmHh",
        "colab_type": "code",
        "colab": {}
      },
      "source": [
        "# Declare toggle button to switch between daily and cumulative data \n",
        "\n",
        "data_button = widgets.ToggleButtons(\n",
        "    options=['Cumulative', 'Daily'],\n",
        "    description='Data Type :',\n",
        "    button_style='success',\n",
        "    icon='check'\n",
        ")"
      ],
      "execution_count": 0,
      "outputs": []
    },
    {
      "cell_type": "code",
      "metadata": {
        "id": "Hcg0O6YmLR7m",
        "colab_type": "code",
        "colab": {}
      },
      "source": [
        "# Declare toggle button to enable and disable grid\n",
        "\n",
        "grid_button = widgets.ToggleButtons(\n",
        "    options=[\"On\", \"Off\"],\n",
        "    description='Grid :',\n",
        "    button_style='success',\n",
        "    icon='check'\n",
        ")"
      ],
      "execution_count": 0,
      "outputs": []
    },
    {
      "cell_type": "code",
      "metadata": {
        "colab_type": "code",
        "id": "Gmno5v8fHjY5",
        "colab": {}
      },
      "source": [
        "# Declare toggle button to declare graph type\n",
        "\n",
        "graph_type = widgets.ToggleButtons(\n",
        "    options=[\"Regular\", \"Uniform\"],\n",
        "    description='Graph Type :',\n",
        "    button_style='success',\n",
        "    icon='check'\n",
        ")"
      ],
      "execution_count": 0,
      "outputs": []
    },
    {
      "cell_type": "code",
      "metadata": {
        "id": "1P8m8-XeLVx-",
        "colab_type": "code",
        "colab": {}
      },
      "source": [
        "# Declare plot button\n",
        "\n",
        "button = widgets.Button(\n",
        "    description='Plot',\n",
        ")"
      ],
      "execution_count": 0,
      "outputs": []
    },
    {
      "cell_type": "code",
      "metadata": {
        "id": "UTJpXNLxWJfK",
        "colab_type": "code",
        "colab": {}
      },
      "source": [
        "# Padding method that returns 2% of the max data available for absoluted label padding\n",
        "\n",
        "def padding(max):\n",
        "    return int((max*2)/100)"
      ],
      "execution_count": 0,
      "outputs": []
    },
    {
      "cell_type": "code",
      "metadata": {
        "id": "ZiLIy2K56-31",
        "colab_type": "code",
        "colab": {}
      },
      "source": [
        "# Searching methods that matches country name to it's slug value\n",
        "\n",
        "def country_finder(location):\n",
        "    loc = countries_data.loc[countries_data['Country']=='India', ['Slug']].values.tolist()[0]\n",
        "    return loc[0]"
      ],
      "execution_count": 0,
      "outputs": []
    },
    {
      "cell_type": "code",
      "metadata": {
        "id": "HlQ5O1nlOOLQ",
        "colab_type": "code",
        "colab": {}
      },
      "source": [
        "# Global data plotting method\n",
        "\n",
        "def plot_global(data, grid):\n",
        "    response = requests.get('https://api.covid19api.com/summary')\n",
        "    response.raise_for_status()\n",
        "    global_data = json.loads(response.content.decode(encoding='UTF-8',errors='strict'))\n",
        "\n",
        "    if(data=='Cumulative'):\n",
        "        pre = 'Total'\n",
        "    else:\n",
        "        pre = 'New'\n",
        "    \n",
        "    global_confirmed_data = pd.DataFrame(global_data['Countries']).sort_values(['{0}Confirmed'.format(pre)],ascending=False).head(10)\n",
        "    global_deaths_data = pd.DataFrame(global_data['Countries']).sort_values(['{0}Deaths'.format(pre)],ascending=False).head(10)\n",
        "    global_recovered_data = pd.DataFrame(global_data['Countries']).sort_values(['{0}Recovered'.format(pre)],ascending=False).head(10)\n",
        "\n",
        "    fig = plt.figure(figsize=(30, 20))\n",
        "    fig.suptitle('Global Top 10 COVID-19 Statistics', fontsize=16)\n",
        "    fig.tight_layout()\n",
        "\n",
        "    ax1 = plt.subplot2grid((2, 3), (0, 0), rowspan=2)\n",
        "    ax2 = plt.subplot2grid((2, 3), (0, 1), rowspan=2)\n",
        "    ax3 = plt.subplot2grid((2, 3), (0, 2), rowspan=2)\n",
        "    \n",
        "\n",
        "    country = global_confirmed_data['Country'].tolist()\n",
        "    confirmed = global_confirmed_data['{0}Confirmed'.format(pre)].tolist()\n",
        "    recovered = global_recovered_data['{0}Recovered'.format(pre)].tolist()\n",
        "    deaths = global_deaths_data['{0}Deaths'.format(pre)].tolist()\n",
        "\n",
        "    ax1.set_title(pre + ' Confirmed')\n",
        "    ax1.barh(np.arange(len(country)), confirmed)\n",
        "    ax1.set_yticks(np.arange(0,10))\n",
        "    ax1.invert_yaxis()\n",
        "    for i, v in enumerate(confirmed):\n",
        "        ax1.text(padding(confirmed[0]), i + .05, '{} | {}'.format(country[i],v), color='black')\n",
        "\n",
        "    ax2.set_title(pre + ' Recovered')\n",
        "    ax2.barh(np.arange(len(country)), recovered)\n",
        "    ax2.set_yticks(np.arange(0,10))\n",
        "    ax2.invert_yaxis()\n",
        "    for i, v in enumerate(recovered):\n",
        "        ax2.text(padding(recovered[0]), i + .05, '{} | {}'.format(country[i],v), color='black')\n",
        "\n",
        "    ax3.set_title(pre + ' Deaths')\n",
        "    ax3.barh(np.arange(len(country)), deaths)\n",
        "    ax3.set_yticks(np.arange(0,10))\n",
        "    ax3.invert_yaxis()\n",
        "    for i, v in enumerate(deaths):\n",
        "        ax3.text(padding(deaths[0]), i + .05, '{} | {}'.format(country[i],v), color='black')"
      ],
      "execution_count": 0,
      "outputs": []
    },
    {
      "cell_type": "code",
      "metadata": {
        "id": "t0XSRyATPTY8",
        "colab_type": "code",
        "colab": {}
      },
      "source": [
        "# Country-specific data plotting method\n",
        "\n",
        "def plot_country(data, grid, location, gtype):\n",
        "    slug = country_finder(location)\n",
        "    country_data = pd.read_json('https://api.covid19api.com/country/{}'.format(location))\n",
        "    if(len(country_data) == 0):\n",
        "      print('No statistics available')\n",
        "      return\n",
        "    date_list = country_data.groupby('Date')['Date']\n",
        "    confirmed_list = country_data.groupby('Date').sum()['Confirmed'].tolist()[1:-1]\n",
        "    death_list = country_data.groupby('Date').sum()['Deaths'].tolist()[1:-1]\n",
        "    recovered_list = country_data.groupby('Date').sum()['Recovered'].tolist()[1:-1]\n",
        "\n",
        "    if(data=='Cumulative'):\n",
        "        pre = 'Total'\n",
        "    else:\n",
        "        pre = 'New'\n",
        "        confirmed_list = [ confirmed_list[i] - confirmed_list[i-1] for i, _ in enumerate(confirmed_list)][1:]\n",
        "        recovered_list = [ recovered_list[i] - recovered_list[i-1] for i, _ in enumerate(recovered_list)][1:]\n",
        "        death_list = [ death_list[i] - death_list[i-1] for i, _ in enumerate(death_list)][1:]\n",
        "\n",
        "    fig = plt.figure(figsize=(30, 20))\n",
        "    fig.suptitle('{} COVID-19 Statistics'.format(location), fontsize=16)\n",
        "    fig.tight_layout()\n",
        "\n",
        "    ax1 = plt.subplot2grid((3, 3), (0, 0), colspan=3)\n",
        "    ax2 = plt.subplot2grid((3, 3), (1, 0), colspan=3)\n",
        "    ax3 = plt.subplot2grid((3, 3), (2, 0), colspan=3)\n",
        "\n",
        "    if(gtype==\"Uniform\"):\n",
        "        ax1.axis(ymax=confirmed_list[-1]+1000)\n",
        "        ax2.axis(ymax=confirmed_list[-1]+1000)\n",
        "        ax3.axis(ymax=confirmed_list[-1]+1000)\n",
        "    else:\n",
        "        ax1.axis(ymax=confirmed_list[-1]+1000)\n",
        "        ax2.axis(ymax=recovered_list[-1]+1000)\n",
        "        ax3.axis(ymax=death_list[-1]+1000)\n",
        "\n",
        "    if(grid==\"On\"):\n",
        "        ax1.grid(True)\n",
        "        ax2.grid(True)\n",
        "        ax3.grid(True)\n",
        "    else:\n",
        "        ax1.grid(False)\n",
        "        ax2.grid(False)\n",
        "        ax3.grid(False)\n",
        "\n",
        "    \n",
        "    ax1.set_title('{} Confirmed Cases'.format(pre))\n",
        "    ax1.set_ylabel('No. of cases')\n",
        "    ax1.set_xlabel('Days (from day 0 to present day)')\n",
        "    ax1.plot(confirmed_list)\n",
        "    ax1.set_xticks(np.arange(len(confirmed_list)))\n",
        "    ax2.set_title('{} Recovered Cases'.format(pre))\n",
        "    ax2.set_ylabel('No. of cases')\n",
        "    ax2.set_xlabel('Days (from day 0 to present day)')\n",
        "    ax2.plot(recovered_list)\n",
        "    ax2.set_xticks(np.arange(len(recovered_list)))\n",
        "    ax3.set_title('{} Death Cases'.format(pre))\n",
        "    ax3.set_ylabel('No. of cases')\n",
        "    ax3.set_xlabel('Days (from day 0 to present day)')\n",
        "    ax3.set_xticks(np.arange(len(death_list)))\n",
        "    ax3.plot(death_list)"
      ],
      "execution_count": 0,
      "outputs": []
    },
    {
      "cell_type": "code",
      "metadata": {
        "id": "NInq5LuTLblw",
        "colab_type": "code",
        "colab": {}
      },
      "source": [
        "# Plotting method that is executed when button is pressed\n",
        "\n",
        "def plot(b=None):\n",
        "    location = country_dropdown.value\n",
        "    data = data_button.value\n",
        "    grid = grid_button.value\n",
        "    gtype = graph_type.value\n",
        "\n",
        "\n",
        "    if(location=='Global'):\n",
        "        plot_global(data, grid)\n",
        "    else:\n",
        "        plot_country(data, grid, location, gtype)\n"
      ],
      "execution_count": 0,
      "outputs": []
    },
    {
      "cell_type": "code",
      "metadata": {
        "id": "VvDVhakc16Hq",
        "colab_type": "code",
        "colab": {}
      },
      "source": [
        "# Button on click event\n",
        "\n",
        "@button.on_click\n",
        "def plot_on_click(b):\n",
        "    out.clear_output(wait=True)\n",
        "    with out:\n",
        "        plot()\n",
        "        plt.show()\n",
        "\n",
        "tab = VBox(children=[country_dropdown,\n",
        "                     data_button,\n",
        "                     graph_type,\n",
        "                     grid_button,\n",
        "                     ])\n",
        "\n",
        "out = widgets.Output()\n",
        "tab = widgets.Tab(children=[tab])\n",
        "tab.set_title(0, 'Covid-19 Dashboard')\n",
        "VBox(children=[tab, button, out])"
      ],
      "execution_count": 0,
      "outputs": []
    },
    {
      "cell_type": "code",
      "metadata": {
        "id": "scXkBsDSLtrq",
        "colab_type": "code",
        "colab": {}
      },
      "source": [
        ""
      ],
      "execution_count": 0,
      "outputs": []
    }
  ]
}